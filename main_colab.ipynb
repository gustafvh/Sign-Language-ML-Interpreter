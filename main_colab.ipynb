{
  "nbformat": 4,
  "nbformat_minor": 0,
  "metadata": {
    "colab": {
      "name": "Sign-Language-ML-Interpreter-notebook.ipynb",
      "provenance": [],
      "collapsed_sections": [],
      "authorship_tag": "ABX9TyNyFVAu9fnAAuBgA5cXBDBT",
      "include_colab_link": true
    },
    "kernelspec": {
      "name": "python3",
      "display_name": "Python 3"
    },
    "accelerator": "GPU"
  },
  "cells": [
    {
      "cell_type": "markdown",
      "metadata": {
        "id": "view-in-github",
        "colab_type": "text"
      },
      "source": [
        "<a href=\"https://colab.research.google.com/github/gustafvh/Sign-Language-ML-Interpreter/blob/master/main_colab.ipynb\" target=\"_parent\"><img src=\"https://colab.research.google.com/assets/colab-badge.svg\" alt=\"Open In Colab\"/></a>"
      ]
    },
    {
      "cell_type": "code",
      "metadata": {
        "id": "zK9mXwixRiZS",
        "colab_type": "code",
        "outputId": "5e7c2b72-7d58-449f-886b-d4ac32961b0b",
        "colab": {
          "base_uri": "https://localhost:8080/",
          "height": 68
        }
      },
      "source": [
        "# Must be run in Colab. Downloads dataset from github repo  \n",
        "!rm -rf sample_data/\n",
        "!mkdir output/\n",
        "!git clone https://github.com/gustafvh/kex-dataset.git\n",
        "!git clone https://github.com/gustafvh/SSL-Dataset.git\n",
        "\n",
        "\n",
        "# Get dataset online example\n",
        "# !wget -cq https://s3.amazonaws.com/content.udacity-data.com/courses/nd188/flower_data.zip\n",
        "# !unzip -qq flower_data.zip"
      ],
      "execution_count": 18,
      "outputs": [
        {
          "output_type": "stream",
          "text": [
            "mkdir: cannot create directory ‘output/’: File exists\n",
            "fatal: destination path 'kex-dataset' already exists and is not an empty directory.\n",
            "fatal: destination path 'SSL-Dataset' already exists and is not an empty directory.\n"
          ],
          "name": "stdout"
        }
      ]
    },
    {
      "cell_type": "code",
      "metadata": {
        "id": "7Ezmad4whDA3",
        "colab_type": "code",
        "colab": {}
      },
      "source": [
        "from PIL import Image\n",
        "import numpy as np\n",
        "\n",
        "import warnings\n",
        "warnings.filterwarnings(\"ignore\", category=DeprecationWarning)\n",
        "\n",
        "from google.colab import files\n",
        "\n",
        "import pandas as pd\n",
        "import json\n",
        "from skimage import transform\n",
        "from matplotlib import pyplot as plt\n",
        "\n",
        "from tensorflow.keras.layers import Dense, GlobalAveragePooling2D\n",
        "from tensorflow.keras.applications import MobileNet, InceptionV3, Xception, InceptionResNetV2\n",
        "from tensorflow.keras.applications.mobilenet import preprocess_input\n",
        "from tensorflow.keras.preprocessing.image import ImageDataGenerator\n",
        "from tensorflow.keras.models import Model\n",
        "from tensorflow.keras.models import model_from_json\n",
        "from tensorflow.keras.callbacks import ModelCheckpoint\n",
        "\n",
        "from tensorflow.keras.preprocessing import image\n",
        "\n",
        "# from kerastuner.tuners import RandomSearch\n",
        "# from kerastuner.engine.hyperparameters import HyperParameters\n",
        "\n",
        "# Time for 10 epochs with 2900 images:\n",
        "# Locally CPU: 82 min (490 s per epoch)\n",
        "# Colab GPU: 3 min (19 s per epoch)\n",
        "\n",
        "from tensorflow.keras.utils import plot_model\n",
        "\n",
        "import cv2\n",
        "from google.colab.patches import cv2_imshow\n",
        "import os"
      ],
      "execution_count": 0,
      "outputs": []
    },
    {
      "cell_type": "code",
      "metadata": {
        "id": "aGbwiWkriQLr",
        "colab_type": "code",
        "outputId": "8520750e-6315-43a6-c65e-99885c01dca0",
        "colab": {
          "base_uri": "https://localhost:8080/",
          "height": 68
        }
      },
      "source": [
        "TRAINING_DATA_SET_PATH = '/content/SSL-Dataset/train'\n",
        "VALIDATION_DATA_SET_PATH = '/content/SSL-Dataset/test'\n",
        "TEST_DATA_SET_PATH = '/content/kex-dataset/test-images'\n",
        "EPOCHS = 10  # 50-100 is a good range to try later\n",
        "BATCH_SIZE = 32\n",
        "IMAGE_HEIGHT = 224\n",
        "IMAGE_WIDTH = 224\n",
        "DATASET_CATEGORIES = 29\n",
        "\n",
        "train_datagen = ImageDataGenerator(preprocessing_function=preprocess_input,\n",
        "                                   rotation_range=10,\n",
        "                                   width_shift_range=0.1,\n",
        "                                   height_shift_range=0.1,\n",
        "                                   shear_range=0.1,\n",
        "                                   zoom_range=0.1,\n",
        "                                   fill_mode='nearest'\n",
        "                                   )\n",
        "\n",
        "val_datagen = ImageDataGenerator(preprocessing_function=preprocess_input)\n",
        "\n",
        "train_generator = train_datagen.flow_from_directory(TRAINING_DATA_SET_PATH,\n",
        "                                                    target_size=(IMAGE_WIDTH, IMAGE_HEIGHT),\n",
        "                                                    color_mode='rgb',\n",
        "                                                    batch_size=BATCH_SIZE,\n",
        "                                                    class_mode='categorical',\n",
        "                                                    shuffle=True)\n",
        "\n",
        "validation_generator = val_datagen.flow_from_directory(\n",
        "    VALIDATION_DATA_SET_PATH,\n",
        "    target_size=(IMAGE_WIDTH, IMAGE_HEIGHT),\n",
        "    batch_size=BATCH_SIZE,\n",
        "    class_mode='categorical')\n",
        "\n",
        "test_datagen = ImageDataGenerator(preprocessing_function=preprocess_input)\n",
        "\n",
        "test_generator = test_datagen.flow_from_directory(\n",
        "    TEST_DATA_SET_PATH,\n",
        "    target_size=(IMAGE_WIDTH, IMAGE_HEIGHT),\n",
        "    batch_size=BATCH_SIZE,\n",
        "    class_mode='categorical')"
      ],
      "execution_count": 20,
      "outputs": [
        {
          "output_type": "stream",
          "text": [
            "Found 14500 images belonging to 29 classes.\n",
            "Found 2900 images belonging to 29 classes.\n",
            "Found 1 images belonging to 1 classes.\n"
          ],
          "name": "stdout"
        }
      ]
    },
    {
      "cell_type": "code",
      "metadata": {
        "id": "3Gc4kHJVUxVB",
        "colab_type": "code",
        "colab": {}
      },
      "source": [
        "def getPreTrainedModel():\n",
        "    pre_trained_base_model = Xception(weights='imagenet',include_top=False,\n",
        "                                         input_shape=(IMAGE_WIDTH, IMAGE_HEIGHT, 3)\n",
        "                                         )  # Remove last neuron layer (that contains 1000 neurons)\n",
        "\n",
        "    my_model = pre_trained_base_model.output\n",
        "    my_model = GlobalAveragePooling2D()(my_model)\n",
        "    my_model = Dense(1024, activation='relu')(\n",
        "        my_model)  # Add layer. Layer #1: 1000 nodes, and rectified linear activation function\n",
        "    my_model = Dense(1024, activation='relu')(my_model)  # Layer #2\n",
        "    my_model = Dense(512, activation='relu')(my_model)\n",
        "    final_layer = Dense(DATASET_CATEGORIES, activation='softmax')(\n",
        "        my_model)  # DATASET_CATEGORIES because it could be A,B,C etc.\n",
        "    final_model = Model(inputs=pre_trained_base_model.input, outputs=final_layer)\n",
        "\n",
        "    #print(final_model.summary())\n",
        "    return final_model"
      ],
      "execution_count": 0,
      "outputs": []
    },
    {
      "cell_type": "code",
      "metadata": {
        "id": "YXY0s8-dVEGu",
        "colab_type": "code",
        "colab": {}
      },
      "source": [
        "def freezeLayers(numOfLayers, model):\n",
        "    for single_layer in model.layers[:numOfLayers]:\n",
        "        single_layer.trainable = False\n",
        "    for single_layer in model.layers[numOfLayers:]:\n",
        "        single_layer.trainable = True\n",
        "\n",
        "    return model"
      ],
      "execution_count": 0,
      "outputs": []
    },
    {
      "cell_type": "code",
      "metadata": {
        "id": "ZrJ3d-acVE8q",
        "colab_type": "code",
        "colab": {}
      },
      "source": [
        "def fitModel(model):\n",
        "    model.compile(optimizer='Adam', loss='categorical_crossentropy',\n",
        "                  metrics=['accuracy'])\n",
        "\n",
        "    # Checkpoints: save only the best performing model weights as file\n",
        "    checkpoint = ModelCheckpoint('/content/output/model-weights-best.hdf5',\n",
        "                                 monitor='val_accuracy', verbose=1,\n",
        "                                 save_best_only=True,\n",
        "                                 save_weights_only=False, mode='max')\n",
        "    callbacks_list = [checkpoint]\n",
        "\n",
        "    step_size_training = (train_generator.n // train_generator.batch_size) * 0.7 # smart to use a small learning rate because\n",
        "    # high learning rates increase the risk of losing previous knowledge.# Balance here to find optimal step_size\n",
        "    history = model.fit_generator(generator=train_generator,\n",
        "                                  steps_per_epoch=step_size_training,\n",
        "                                  epochs=EPOCHS,\n",
        "                                  validation_data=validation_generator,\n",
        "                                  validation_steps=validation_generator.n // BATCH_SIZE,\n",
        "                                  callbacks=callbacks_list,\n",
        "                                  )\n",
        "\n",
        "    # # Save training history as file. For ex. loss and accuracy in each epoch\n",
        "    # with open('./output/history.json', 'w') as file:\n",
        "    #     json.dump(history.history, file)\n",
        "\n",
        "    return model"
      ],
      "execution_count": 0,
      "outputs": []
    },
    {
      "cell_type": "code",
      "metadata": {
        "id": "hsgBIzJqVK59",
        "colab_type": "code",
        "colab": {}
      },
      "source": [
        "def trainNetwork():\n",
        "    preTrainedModel = getPreTrainedModel()\n",
        "    trimmedModel = freezeLayers(20, preTrainedModel)\n",
        "    finalModel = fitModel(trimmedModel)\n",
        "    saveModelToJson(finalModel)\n",
        "    return finalModel"
      ],
      "execution_count": 0,
      "outputs": []
    },
    {
      "cell_type": "code",
      "metadata": {
        "id": "PbgXyVauVPOF",
        "colab_type": "code",
        "colab": {}
      },
      "source": [
        "def saveModelToJson(model):\n",
        "    model_json = model.to_json()\n",
        "    with open(\"/content/output/model.json\", \"w\") as json_file:\n",
        "        json_file.write(model_json)\n",
        "\n",
        "    print(\"Model saved as /content/output/model.json\")\n",
        "    #model.save_weights(\"./output/model-weights.h5\")\n",
        "    #print(\"Model Weights saved as ./output/model.h5\")\n",
        "\n",
        "\n",
        "def loadModelfromJson(modelPath, weightPath):\n",
        "    json_file = open(modelPath, 'r')\n",
        "    loaded_model_json = json_file.read()\n",
        "    json_file.close()\n",
        "\n",
        "    loaded_model = model_from_json(loaded_model_json)\n",
        "\n",
        "    loaded_model.load_weights(weightPath)\n",
        "    print(\"Model loaded from\", modelPath)\n",
        "    return loaded_model\n"
      ],
      "execution_count": 0,
      "outputs": []
    },
    {
      "cell_type": "code",
      "metadata": {
        "id": "lF7dRYbHVSJc",
        "colab_type": "code",
        "colab": {}
      },
      "source": [
        "def loadSingleImage(filename):\n",
        "    np_image = Image.open(filename)\n",
        "    np_image = np.array(np_image).astype('float32')\n",
        "    np_image = transform.resize(np_image, (IMAGE_WIDTH, IMAGE_HEIGHT, 3))\n",
        "    np_image = np.expand_dims(np_image, axis=0)\n",
        "    return np_image\n",
        "\n",
        "\n",
        "def showImageCV(preds, imagePath, letter):\n",
        "    # find the class label index with the largest corresponding\n",
        "    # probability\n",
        "    i = preds.argmax(axis=1)[0]\n",
        "    # label = lb.classes_[i]\n",
        "    # draw the class label + probability on the output image\n",
        "    text = \"{}: {:.2f}%\".format(letter, preds[0][i] * 100)\n",
        "\n",
        "    image = cv2.imread(imagePath)\n",
        "    output = image.copy()\n",
        "    cv2.putText(output, text, (10, 30), cv2.FONT_HERSHEY_SIMPLEX, 0.7,\n",
        "                (0, 0, 255), 2)\n",
        "    # show the output image\n",
        "    cv2_imshow(output)\n",
        "    cv2.waitKey(0)\n"
      ],
      "execution_count": 0,
      "outputs": []
    },
    {
      "cell_type": "code",
      "metadata": {
        "id": "pxKzN0BpVU0G",
        "colab_type": "code",
        "colab": {}
      },
      "source": [
        "def getTopPredictions(preds):\n",
        "    # top_preds = preds.argmax(axis=1)[0]\n",
        "\n",
        "    predsDict = {\n",
        "        'A': 0, 'B': 0, 'C': 0, 'D': 0, 'E': 0, 'F': 0, 'G': 0,\n",
        "        'H': 0, 'I': 0, 'J': 0, 'K': 0, 'L': 0, 'M': 0, 'N': 0, \n",
        "        'O': 0, 'P': 0, 'Q': 0, 'R': 0, 'S': 0, 'T': 0,\n",
        "        'U': 0, 'V': 0, 'W': 0, 'X': 0, 'Y': 0, 'Z': 0, 'Å': 0, \n",
        "        'Ä': 0, 'Ö': 0, \n",
        "    }\n",
        "    # map preds index with probability to correct letter from dictonary\n",
        "    for i, key in enumerate(predsDict, start=0):\n",
        "        predsDict[key] = preds[i]\n",
        "\n",
        "    # sort by dictonary value and returns as list\n",
        "    all_preds = sorted(predsDict.items(), reverse=True, key=lambda x: x[1])\n",
        "\n",
        "    top_preds = [all_preds[0], all_preds[1], all_preds[2]]\n",
        "    # for i, key in enumerate(all_preds, start=0):\n",
        "    #     top_preds.append(\n",
        "\n",
        "    # print(all_preds.keys()[0])\n",
        "    # Convert from float into percentages\n",
        "    # top_preds = pd.DataFrame(preds / float(np.sum(preds))).applymap(lambda preds: '{:.2%}'.format(preds)).values\n",
        "    # print(preds[0])\n",
        "\n",
        "    return top_preds, all_preds"
      ],
      "execution_count": 0,
      "outputs": []
    },
    {
      "cell_type": "code",
      "metadata": {
        "id": "y8X_KpIfVWo7",
        "colab_type": "code",
        "colab": {}
      },
      "source": [
        "def evaluateModel(model):\n",
        "\n",
        "    model.compile(optimizer='Adam', loss='categorical_crossentropy',\n",
        "                  metrics=['accuracy'])\n",
        "    score = model.evaluate_generator(validation_generator,\n",
        "                                     validation_generator.n / BATCH_SIZE,\n",
        "                                     verbose=1)\n",
        "    loss, accuracy = score[0], score[1]\n",
        "    return loss, accuracy\n"
      ],
      "execution_count": 0,
      "outputs": []
    },
    {
      "cell_type": "code",
      "metadata": {
        "id": "vz-fXpxwVZ7z",
        "colab_type": "code",
        "colab": {}
      },
      "source": [
        "def mainPipeline():\n",
        "    finalModel = trainNetwork()\n",
        "    #finalModel = loadModelfromJson('/content/output/model.json', '/content/output/model-weights-best.hdf5')\n",
        "\n",
        "    #letter = 'C'\n",
        "    #imagePath = '/content/SSL-Dataset/train' + letter + '/' + letter + '575.jpg'\n",
        "    imagePath = '/content/kex-dataset/test-images/S/S512.jpg'\n",
        "\n",
        "\n",
        "    filenames = test_generator.filenames\n",
        "    letter = filenames[0][0]\n",
        "    predictions = finalModel.predict_generator(test_generator,steps = len(filenames))\n",
        "    #image = loadSingleImage(imagePath)\n",
        "    #predictions = finalModel.predict(image)\n",
        "\n",
        "    print('*****************************************************')\n",
        "    #print(predictions)\n",
        "    #loss, accuracy = evaluateModel(finalModel)\n",
        "    #print(\"Loss: \", loss, \"Accuracy: \", accuracy * 100, '%')\n",
        "    print('Input was:', letter)\n",
        "    top_three_preds, all_preds = getTopPredictions(predictions[0])\n",
        "    print(top_three_preds)\n",
        "    # print(predictions)\n",
        "    #files.download('/content/output/model-weights-best.hdf5')\n",
        "    #files.download('/content/output/model.json')\n",
        "\n",
        "    print('*****************************************************')\n",
        "    # print(finalModel.summary())\n",
        "    # print(evaluateModel(finalModel))\n",
        "\n",
        "    showImageCV(predictions, imagePath, letter)\n",
        "\n",
        "    # Output updated training data structure in text-file\n",
        "    #os.system(\"tree --filelimit=20 > project-file-structure.txt\")"
      ],
      "execution_count": 0,
      "outputs": []
    },
    {
      "cell_type": "code",
      "metadata": {
        "id": "ItC47uMJWHTp",
        "colab_type": "code",
        "outputId": "a6faa25f-1255-4781-d7ff-10a1a543c821",
        "colab": {
          "base_uri": "https://localhost:8080/",
          "height": 119
        }
      },
      "source": [
        "mainPipeline()"
      ],
      "execution_count": 0,
      "outputs": [
        {
          "output_type": "stream",
          "text": [
            "Epoch 1/10\n",
            "318/317 [==============================] - ETA: 0s - loss: 0.7808 - accuracy: 0.7750\n",
            "Epoch 00001: val_accuracy improved from -inf to 0.71042, saving model to /content/output/model-weights-best.hdf5\n",
            "318/317 [==============================] - 182s 573ms/step - loss: 0.7808 - accuracy: 0.7750 - val_loss: 0.8681 - val_accuracy: 0.7104\n",
            "Epoch 2/10\n",
            " 76/317 [======>.......................] - ETA: 2:06 - loss: 0.2517 - accuracy: 0.9317"
          ],
          "name": "stdout"
        }
      ]
    },
    {
      "cell_type": "code",
      "metadata": {
        "id": "wwNRbOLBwXEj",
        "colab_type": "code",
        "colab": {}
      },
      "source": [
        ""
      ],
      "execution_count": 0,
      "outputs": []
    }
  ]
}